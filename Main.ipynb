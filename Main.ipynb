{
 "cells": [
  {
   "cell_type": "code",
   "execution_count": 37,
   "metadata": {},
   "outputs": [],
   "source": [
    "import pandas as pd\n",
    "import math\n",
    "import numpy as np\n",
    "import matplotlib.pyplot as plt\n",
    "import matplotlib.dates as mdates\n",
    "from binance.client import Client\n",
    "import datetime as dt"
   ]
  },
  {
   "cell_type": "code",
   "execution_count": 38,
   "metadata": {},
   "outputs": [],
   "source": [
    "# 1. Data Retrieval\n",
    "\n",
    "# Objective: Retrieve historical data using the API of a crypto exchange, such as Kraken or Binance. Requirements:\n",
    "# • Select either BTCUSD or ETHUSD on Kraken, or BTCUSDT or ETHUSD on Binance as the trading pair.\n",
    "# • Retrieve at least 30 days of 1-minute interval data for OHLC (Open, High, Low, Close) prices and trading volume.\n",
    "# • Provide code that demonstrates the data retrieval process via the API.\n",
    "\n",
    "api_key = 'hbJL4wO7LeYX6FkKuVW08PpoBgiOUOwdUYAhYLSG40xzpaywcEPgRjPgGBXGyS3B'\n",
    "api_secret = 'qHm85rDfxljX5FhvjoAVEPbQ119Teu78SAw9KERQ3YtLD8mMHH2NRVUNef9Tb2zX'\n",
    "\n",
    "client = Client(api_key, api_secret)\n",
    "\n",
    "\n",
    "def get_historical_klines(symbol, interval, start_str, end_str=None):\n",
    "    \n",
    "    # Fetch historical klines from Binance.\n",
    "\n",
    "    # param symbol: str e.g., 'BTCUSDT'\n",
    "    # param interval: str e.g., Client.KLINE_INTERVAL_1HOUR\n",
    "    # param start_str: str e.g., '7 Nov, 2024'\n",
    "    # param end_str: str e.g., '6 Dec, 2024' (optional)\n",
    "    # possible columns:  'open_time', 'open', 'high', 'low', 'close', 'volume', 'close_time', 'quote_asset_volume', 'number_of_trades','taker_buy_base_asset_volume', 'taker_buy_quote_asset_volume', 'ignore'\n",
    "    # return: pd.DataFrame\n",
    "   \n",
    "    klines = client.get_historical_klines(symbol, interval, start_str, end_str)\n",
    "    df = pd.DataFrame(klines, columns=[\n",
    "        'open_time', 'open', 'high', 'low', 'close', 'volume',\n",
    "        'close_time', 'quote_asset_volume', 'number_of_trades',\n",
    "        'taker_buy_base_asset_volume', 'taker_buy_quote_asset_volume', 'ignore'\n",
    "    ])\n",
    "    df['open_time'] = pd.to_datetime(df['open_time'], unit='ms')\n",
    "    df.set_index('open_time', inplace=True)\n",
    "    # Keep only the Open, High, Low, Close columns and convert them to float\n",
    "    df = df[['open', 'high', 'low', 'close']].astype(float)\n",
    "    return df\n",
    "\n",
    "\n",
    "\n",
    "\n",
    "#running the program:\n",
    "\n",
    "symbol = 'BTCUSDT'\n",
    "interval = Client.KLINE_INTERVAL_1MINUTE  # 1-minute intervals\n",
    "start_date = '7 Nov, 2024'\n",
    "end_date = '6 Dec, 2024'\n",
    "\n",
    "df = get_historical_klines(symbol, interval, start_date, end_date)\n",
    "\n",
    "#save the dataframe in a csv format:\n",
    "\n",
    "file_name = \"Binance_BTCUSDT_30Days_1Min.csv\" \n",
    "df.to_csv(file_name)\n"
   ]
  },
  {
   "cell_type": "code",
   "execution_count": 39,
   "metadata": {},
   "outputs": [],
   "source": [
    "# 2. Data Cleaning\n",
    "\n",
    "# Objective: Preprocess the raw data to make it suitable for analysis. Requirements:\n",
    "# • Handle any missing timestamps or NaN values.\n",
    "# • Remove duplicate rows, if any.\n",
    "# • Address outliers in price or volume (explain your approach).\n",
    "# • Convert timestamps to the CET timezone.\n",
    "# • Aggregate the data into hourly intervals while maintaining the OHLC structure.\n",
    "\n"
   ]
  }
 ],
 "metadata": {
  "kernelspec": {
   "display_name": "Python 3",
   "language": "python",
   "name": "python3"
  },
  "language_info": {
   "codemirror_mode": {
    "name": "ipython",
    "version": 3
   },
   "file_extension": ".py",
   "mimetype": "text/x-python",
   "name": "python",
   "nbconvert_exporter": "python",
   "pygments_lexer": "ipython3",
   "version": "3.12.1"
  }
 },
 "nbformat": 4,
 "nbformat_minor": 2
}
